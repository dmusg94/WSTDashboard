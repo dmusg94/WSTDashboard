{
 "cells": [
  {
   "cell_type": "markdown",
   "id": "04e592d5",
   "metadata": {},
   "source": [
    "# Weekly Sales to Target Tracker Function\n",
    "\n",
    "The objective of this function is to create tabular data used for creating a Weekly Sales to Target Tracker. This one function will return two files: a 'quarter to date' CSV and an 'annual to date' CSV.\n",
    "\n",
    "Tableau Server Team/Rep Performance Sales Table is downloaded and fed into this function. This function also takes in the date of data retrieval, the quarter number, current number of billing days in the quarter, and current number of billing days in the year.\n",
    "\n",
    "**Note:** Starting Q2, this dataframe will also include all NTX territory.\n",
    "\n",
    "The function knows the finalized targets for each team, and uses this in conjunction with the imported sales data to create a dataframe; it also automatically performs calculations for all columns requested:\n",
    "   * QTD/YTD Target\n",
    "   * % to QTD/YTD Target \n",
    "   * % Growth PY\n",
    "   * % to Quarter/Annual Target\n",
    "    \n",
    "The function will automatically display the tables it has created, as well as download those tables as CSV files to same path as this notebook. \n",
    "\n",
    "From there, the Power BI file is refreshed with the new data source."
   ]
  },
  {
   "cell_type": "markdown",
   "id": "a9f12715",
   "metadata": {},
   "source": [
    "## Data Acquisition\n",
    "\n",
    "**Team/Rep Sales Performance**\n",
    "\n",
    "Explore / Territory Leadership / West Zone Daily Sales (2022) Territory / Team/Rep Performance / \n",
    "Download Team_Rep Sales Table_crosstab\n",
    "\n",
    "Following filters:\n",
    "* QTD and YTD \n",
    "* Financial Sales\n",
    "* Product Groups: CEMENT, EXTREMITIES, FOOT AND ANKLE, HIPS, KNEES, RESTORATIVE THERAPY, SPORTS MEDICINE, TRAUMA\n",
    "* Team/Rep Name: JOHN KOEHLER, MATT BORROR, RYAN FURNISH, TEAM BLAKE ROBERTS, TEAM DOSSIE LAYTON, TEAM LUNA, TEAM MIDAS, TEAM NEO, TEAM OKC, TEAM RICK ATCHISON, TEAM SEVE SANCHEZ, TEAM SOUTHWEST, TEAM TULSA\n",
    "* Direct Comparison and 2021 as PY\n",
    "* Today's date selected; currently these updates are occurring on Friday mornings.\n",
    "\n",
    ".txt file from Tableau crosstab download converted to .csv UTF-8 to be read by this function.\n"
   ]
  },
  {
   "cell_type": "code",
   "execution_count": null,
   "id": "1b160b84",
   "metadata": {},
   "outputs": [],
   "source": [
    "# Import necessary libraries\n",
    "\n",
    "import pandas as pd\n",
    "import numpy as np\n",
    "from pathlib import Path"
   ]
  },
  {
   "cell_type": "markdown",
   "id": "202dc9a9",
   "metadata": {},
   "source": [
    "## Target Tracker Function"
   ]
  },
  {
   "cell_type": "code",
   "execution_count": null,
   "id": "413309cb",
   "metadata": {},
   "outputs": [],
   "source": [
    "def target_tracker(date, q_number, q_current_billing_days, annual_current_billing_days):\n",
    "    \n",
    "    # Date is written 'mmddyy'\n",
    "    # q_number written as string e.g.'1'\n",
    "    \n",
    "    # Establish quarter\n",
    "    quarter_billing_days = {'1':63,'2':63,'3':64,'4':61}\n",
    "    total_billing_days_quarter = quarter_billing_days[q_number]\n",
    "    \n",
    "    # Download final targets dataframe\n",
    "    final_targets = pd.read_csv('final_targets_2022.csv')\n",
    "    # Clean final targets dataframe\n",
    "    final_targets.rename(columns={'TEAM': 'team_name', 'SALES MANAGER': 'sales_manager', 'PRODUCT GROUP': 'product_group', \n",
    "                              'Q1 TARGET': 'q1_target', 'Q2 TARGET': 'q2_target', 'Q3 TARGET': 'q3_target', \n",
    "                              'Q4 TARGET': 'q4_target', 'TOTAL TARGET': 'total_target', 'Q2-Q4 TARGET': 'q2_q4_target'},\n",
    "                         inplace=True)\n",
    "    final_targets = final_targets.replace('\\$','', regex=True).replace(',','', regex=True).replace('-','0',regex=True)\n",
    "    final_targets_annual = final_targets[['team_name', 'sales_manager', 'product_group', 'total_target']]\n",
    "    \n",
    "    # Download Tableau data\n",
    "    quarterly_sales = pd.read_csv('quarterly_sales_'+date+'.csv', na_values='$0 ')\n",
    "    annual_sales = pd.read_csv('annual_sales_'+date+'.csv', na_values='$0 ')\n",
    "    \n",
    "    # Clean quarter dataframe\n",
    "    quarterly_sales.rename(columns={'Team/Rep Name': 'team_name', 'Product Group': 'product_group',\n",
    "                                    'Current Sales': 'current_sales', 'Previous Sales': 'sales_2021',\n",
    "                                    'Growth %': 'percent_growth_py'},\n",
    "                           inplace=True)\n",
    "    quarterly_sales = quarterly_sales[['team_name', 'product_group', 'current_sales', 'sales_2021']]\n",
    "    quarterly_sales = quarterly_sales.replace('\\$','', regex=True).replace(',','', regex=True)\n",
    "    quarterly_sales['product_group'] = quarterly_sales['product_group'].str.replace('&','AND',regex=True)\n",
    "    quarterly_sales['product_group'] = quarterly_sales['product_group'].str.upper()\n",
    "    quarterly_sales[['current_sales', 'sales_2021']] = quarterly_sales[['current_sales', 'sales_2021']].astype(float)\n",
    "    \n",
    "    # Merge quarter dataframe with final targets\n",
    "    qtr_merged = final_targets.merge(quarterly_sales, how='left', on=['team_name','product_group'])\n",
    "    qtr_merged = qtr_merged[qtr_merged['product_group']!='TOTAL']\n",
    "    \n",
    "    # Quarter target/percentage calculations\n",
    "    qtr_merged['qtd_target'] = ((abs(qtr_merged['q'+q_number+'_target']))/total_billing_days_quarter)*q_current_billing_days\n",
    "    qtr_merged['percent_to_qtd_target'] = qtr_merged['current_sales']/qtr_merged['qtd_target']\n",
    "    qtr_merged['percent_growth_py'] = (qtr_merged['current_sales']-qtr_merged['sales_2021'])/qtr_merged['sales_2021']\n",
    "    qtr_merged['percent_to_qtr_target'] = qtr_merged['current_sales']/qtr_merged['q'+q_number+'_target']\n",
    "    \n",
    "    # Repeat for annual dataframe\n",
    "    annual_sales.rename(columns={'Team/Rep Name': 'team_name', 'Product Group': 'product_group',\n",
    "                                    'Current Sales': 'current_sales', 'Previous Sales': 'sales_2021',\n",
    "                                    'Growth %': 'percent_growth_py'},\n",
    "                           inplace=True)\n",
    "    annual_sales = annual_sales[['team_name', 'product_group', 'current_sales', 'sales_2021']]\n",
    "    annual_sales = annual_sales.replace('\\$','', regex=True).replace(',','', regex=True)\n",
    "    annual_sales['product_group'] = annual_sales['product_group'].str.replace('&','AND',regex=True)\n",
    "    annual_sales['product_group'] = annual_sales['product_group'].str.upper()\n",
    "    annual_sales[['current_sales', 'sales_2021']] = annual_sales[['current_sales', 'sales_2021']].astype(float)\n",
    "    \n",
    "    # Merge annual dataframe with final targets\n",
    "    annual_merged = final_targets_annual.merge(annual_sales, how='left', on=['team_name','product_group'])\n",
    "    annual_merged = annual_merged[annual_merged['product_group']!='TOTAL']\n",
    "    \n",
    "    # Annual target/percentage calculations\n",
    "    annual_merged['ytd_target'] = ((abs(annual_merged['total_target']))/251)*annual_current_billing_days\n",
    "    annual_merged['percent_to_ytd_target'] = annual_merged['current_sales']/annual_merged['ytd_target']\n",
    "    annual_merged['percent_growth_py'] = (annual_merged['current_sales']-annual_merged['sales_2021'])/annual_merged['sales_2021']\n",
    "    annual_merged['percent_to_year_target'] = annual_merged['current_sales']/annual_merged['total_target']\n",
    "    \n",
    "    # Download both new dataframes\n",
    "    #quarter_filepath = Path(r'Unavailable')\n",
    "    #quarter_filepath.parent.mkdir(parents=True, exist_ok=True)\n",
    "    #qtr_merged.to_csv(quarter_filepath, index=False)\n",
    "    #Above code not necessary if notebook stored in same location as report and data\n",
    "    qtr_merged.to_csv('quarter_dash_'+date+'.csv', index=False)\n",
    "    \n",
    "    #annual_filepath = Path(r'Unavailable')\n",
    "    #annual_filepath.parent.mkdir(parents=True, exist_ok=True)\n",
    "    #annual_merged.to_csv(annual_filepath, index=False)\n",
    "    #Above code not necessary if notebook stored in same location as report and data                  \n",
    "    annual_merged.to_csv('annual_dash_'+date+'.csv', index=False)\n",
    "    \n",
    "    return qtr_merged, annual_merged"
   ]
  },
  {
   "cell_type": "code",
   "execution_count": null,
   "id": "db89110a",
   "metadata": {
    "scrolled": true
   },
   "outputs": [],
   "source": [
    "target_tracker('031122', '1', 48, 48)"
   ]
  },
  {
   "cell_type": "code",
   "execution_count": null,
   "id": "54103936",
   "metadata": {},
   "outputs": [],
   "source": []
  },
  {
   "cell_type": "code",
   "execution_count": null,
   "id": "38632748",
   "metadata": {},
   "outputs": [],
   "source": []
  },
  {
   "cell_type": "code",
   "execution_count": null,
   "id": "80f0d294",
   "metadata": {},
   "outputs": [],
   "source": []
  },
  {
   "cell_type": "code",
   "execution_count": null,
   "id": "9b9779b9",
   "metadata": {},
   "outputs": [],
   "source": []
  },
  {
   "cell_type": "code",
   "execution_count": null,
   "id": "be1f564b",
   "metadata": {},
   "outputs": [],
   "source": []
  },
  {
   "cell_type": "code",
   "execution_count": null,
   "id": "b57244b8",
   "metadata": {},
   "outputs": [],
   "source": []
  },
  {
   "cell_type": "code",
   "execution_count": null,
   "id": "cbd3878b",
   "metadata": {},
   "outputs": [],
   "source": []
  },
  {
   "cell_type": "markdown",
   "id": "313d57ff",
   "metadata": {},
   "source": [
    "**Development Notes**\n",
    "\n",
    "\n",
    "* str.replace updating soon; must include regex=True [documentation](https://pandas.pydata.org/docs/reference/api/pandas.Series.str.replace.html#pandas.Series.str.replace)"
   ]
  },
  {
   "cell_type": "code",
   "execution_count": null,
   "id": "6092d84d",
   "metadata": {},
   "outputs": [],
   "source": []
  }
 ],
 "metadata": {
  "kernelspec": {
   "display_name": "Python 3 (ipykernel)",
   "language": "python",
   "name": "python3"
  },
  "language_info": {
   "codemirror_mode": {
    "name": "ipython",
    "version": 3
   },
   "file_extension": ".py",
   "mimetype": "text/x-python",
   "name": "python",
   "nbconvert_exporter": "python",
   "pygments_lexer": "ipython3",
   "version": "3.9.7"
  }
 },
 "nbformat": 4,
 "nbformat_minor": 5
}
