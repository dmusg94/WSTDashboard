{
 "cells": [
  {
   "cell_type": "markdown",
   "id": "04e592d5",
   "metadata": {},
   "source": [
    "# Weekly Sales to Target Tracker Function\n",
    "\n",
    "The objective of this function is to create tabular data used for creating a Weekly Sales to Target Tracker. This one function will return two files: a 'quarter to date' CSV and an 'annual to date' CSV.\n",
    "\n",
    "Tableau Server Team/Rep Performance Sales Table is downloaded and fed into this function. This function also takes in the date of data retrieval, the quarter number, current number of billing days in the quarter, and current number of billing days in the year.\n",
    "\n",
    "**Note:** Starting Q2, this dataframe will also include all NTX territory.\n",
    "\n",
    "The function knows the finalized targets for each team, and uses this in conjunction with the imported sales data to create a dataframe; it also automatically performs calculations for all columns requested:\n",
    "   * QTD/YTD Target\n",
    "   * % to QTD/YTD Target \n",
    "   * % Growth PY\n",
    "   * % to Quarter/Annual Target\n",
    "    \n",
    "The function will automatically display the tables it has created, as well as download those tables as CSV files to same path as this notebook. \n",
    "\n",
    "From there, the Power BI file is refreshed with the new data source."
   ]
  },
  {
   "cell_type": "markdown",
   "id": "a9f12715",
   "metadata": {},
   "source": [
    "## Data Acquisition\n",
    "\n",
    "**Team/Rep Sales Performance**\n",
    "\n",
    "Explore / Territory Leadership / West Zone Daily Sales (2022) Territory / Team/Rep Performance / \n",
    "Download Team_Rep Sales Table_crosstab\n",
    "\n",
    "Following filters:\n",
    "* QTD and YTD \n",
    "* Financial Sales\n",
    "* Product Groups: CEMENT, EXTREMITIES, FOOT AND ANKLE, HIPS, KNEES, RESTORATIVE THERAPY, SPORTS MEDICINE, TRAUMA\n",
    "* Direct Comparison and 2021 as PY\n",
    "* Today's date selected; currently these updates are occurring on Friday mornings.\n",
    "\n",
    ".txt file from Tableau crosstab download converted to .csv UTF-8 to be read by this function.\n"
   ]
  },
  {
   "cell_type": "code",
   "execution_count": 1,
   "id": "1b160b84",
   "metadata": {},
   "outputs": [],
   "source": [
    "# Import necessary libraries\n",
    "\n",
    "import pandas as pd\n",
    "import numpy as np\n",
    "from pathlib import Path"
   ]
  },
  {
   "cell_type": "markdown",
   "id": "202dc9a9",
   "metadata": {},
   "source": [
    "## Target Tracker Function"
   ]
  },
  {
   "cell_type": "code",
   "execution_count": 2,
   "id": "413309cb",
   "metadata": {},
   "outputs": [],
   "source": [
    "def target_tracker(date, q_number, q_current_billing_days, annual_current_billing_days):\n",
    "    \n",
    "    # Date is written 'mmddyy'\n",
    "    # q_number written as string e.g.'1'\n",
    "    \n",
    "    # Establish quarter\n",
    "    quarter_billing_days = {'1':63,'2':63,'3':64,'4':61}\n",
    "    total_billing_days_quarter = quarter_billing_days[q_number]\n",
    "\n",
    "    # Download final targets dataframe\n",
    "    final_targets = pd.read_csv('final_targets_may_2022.csv', na_values=['0','0.0'])\n",
    "    # Clean final targets dataframe\n",
    "    final_targets.rename(columns={'GROUP':'group', 'TEAM': 'team_name', 'SALES MANAGER': 'sales_manager', 'PRODUCT GROUP': 'product_group', \n",
    "                              'Q1 TARGET': 'q1_target', 'Q2 TARGET': 'q2_target', 'Q3 TARGET': 'q3_target', \n",
    "                              'Q4 TARGET': 'q4_target', 'TOTAL TARGET': 'total_target', 'Q2-Q4 TARGET': 'q2_q4_target'},\n",
    "                         inplace=True)\n",
    "    final_targets = final_targets.replace('\\$','', regex=True).replace(',','', regex=True).replace('-','0',regex=True)\n",
    "    final_targets_annual = final_targets[['group','team_name', 'sales_manager', 'product_group', 'total_target']]\n",
    "\n",
    "    # Download Tableau data\n",
    "    quarterly_sales = pd.read_csv('tableau_q'+q_number+date+'.csv', na_values=['0','0.0','$0 ','$0','$0.00'])\n",
    "\n",
    "\n",
    "    # Clean quarter dataframe\n",
    "    quarterly_sales.rename(columns={'Team/Rep Name': 'team_name', 'Product Group': 'product_group',\n",
    "                                    'Current Sales': 'current_sales', 'Previous Sales': 'sales_2021',\n",
    "                                    'Growth %': 'percent_growth_py'},\n",
    "                           inplace=True)\n",
    "    quarterly_sales = quarterly_sales[['team_name', 'product_group', 'current_sales', 'sales_2021']]\n",
    "    quarterly_sales = quarterly_sales.replace('\\$','', regex=True).replace(',','', regex=True)\n",
    "    quarterly_sales['product_group'] = quarterly_sales['product_group'].str.replace('&','AND',regex=True)\n",
    "    quarterly_sales['product_group'] = quarterly_sales['product_group'].str.upper()\n",
    "    quarterly_sales[['current_sales', 'sales_2021']] = quarterly_sales[['current_sales', 'sales_2021']].astype(float)\n",
    "    quarterly_sales.fillna(0.01,inplace=True)\n",
    "    combined_teams = ['TEAM KMR', 'BRYAN MASTERS', 'TEAM REDMAST']\n",
    "    filtered_qtr = quarterly_sales[quarterly_sales['team_name'].isin(combined_teams)]\n",
    "    filtered_qtr = filtered_qtr.groupby(by='product_group').sum()\n",
    "    filtered_qtr.reset_index(inplace=True)\n",
    "    filtered_qtr['team_name'] = 'KMR/REDMAST/BM*'    \n",
    "    quarterly_sales = pd.concat([quarterly_sales, filtered_qtr])\n",
    "    \n",
    "    # Merge quarter dataframe with final targets\n",
    "    qtr_merged = final_targets.merge(quarterly_sales, how='left', on=['team_name','product_group'])\n",
    "    qtr_merged = qtr_merged[qtr_merged['product_group']!='TOTAL']\n",
    "\n",
    "    # Quarter target/percentage calculations\n",
    "    qtr_merged['qtd_target'] = ((abs(qtr_merged['q'+q_number+'_target']))/total_billing_days_quarter)*q_current_billing_days\n",
    "    qtr_merged['percent_to_qtd_target'] = qtr_merged['current_sales']/qtr_merged['qtd_target']\n",
    "    qtr_merged['percent_growth_py'] = (qtr_merged['current_sales']-qtr_merged['sales_2021'])/qtr_merged['sales_2021']\n",
    "    qtr_merged['percent_to_qtr_target'] = qtr_merged['current_sales']/qtr_merged['q'+q_number+'_target']\n",
    "    qtr_merged['team_name'] = qtr_merged['team_name'].str.replace('TEAM ','')\n",
    "\n",
    "    # Split into Legacy and NTX teams\n",
    "    large_qtr_merged = qtr_merged[qtr_merged['group']=='large']\n",
    "    small_qtr_merged = qtr_merged[qtr_merged['group']=='small']\n",
    "    large_qtr_merged.drop('group', axis=1, inplace=True)\n",
    "    small_qtr_merged.drop('group', axis=1, inplace=True)\n",
    "    \n",
    "    qtr_merged.to_csv('OUTPUT_full_qtr.csv', index=False)\n",
    "\n",
    "    #Annual Calculations: merge q1 with q2 for new annual\n",
    "    q1 = pd.read_csv('q1_frozen.csv')\n",
    "    q2 = pd.read_csv('tableau_q'+q_number+date+'.csv', na_values=['0','0.0','$0 ','$0','$0.00'])\n",
    "    #Clean q1\n",
    "    q1['product_group'] = q1['product_group'].str.upper()\n",
    "    #Clean q2\n",
    "    q2.rename(columns={'Team/Rep Name': 'team_name', 'Product Group': 'product_group',\n",
    "                            'Current Sales': 'current_sales', 'Previous Sales': 'sales_2021',\n",
    "                            'Growth %': 'percent_growth_py'},\n",
    "                   inplace=True)\n",
    "    q2 = q2[['team_name', 'product_group', 'current_sales', 'sales_2021']]\n",
    "    q2 = q2.replace('\\$','', regex=True).replace(',','', regex=True)\n",
    "    q2['product_group'] = q2['product_group'].str.replace('&','AND',regex=True)\n",
    "    q2['product_group'] = q2['product_group'].str.upper()\n",
    "    q2[['current_sales', 'sales_2021']] = q2[['current_sales', 'sales_2021']].astype(float)\n",
    "    #Merge q1+q2\n",
    "    annual = q2.merge(q1, how='left', on=['team_name', 'product_group'])\n",
    "    annual.fillna(0.01,inplace=True)\n",
    "    #Recalculate annual = q1+q2 sales current and 2021\n",
    "    annual['current_sales'] = annual['current_sales']+annual['q1_sales']\n",
    "    annual['sales_2021'] = annual['sales_2021']+annual['q1_2021_sales']\n",
    "    #Combine KMR,Redmast,BM\n",
    "    filtered_annual = annual[annual['team_name'].isin(combined_teams)]\n",
    "    filtered_annual = filtered_annual.groupby(by='product_group').sum()\n",
    "    filtered_annual.reset_index(inplace=True)\n",
    "    filtered_annual['team_name'] = 'KMR/REDMAST/BM*'\n",
    "    annual = pd.concat([annual, filtered_annual])\n",
    "    #Merge Targets\n",
    "    annual_merged = final_targets_annual.merge(annual, how='left', on=['team_name','product_group'])\n",
    "    annual_merged = annual_merged[annual_merged['product_group']!='TOTAL']\n",
    "    annual_merged['team_name'] = annual_merged['team_name'].str.replace('TEAM ','')\n",
    "    annual_merged.fillna(0.01, inplace=True)\n",
    "    #Annual Calculations\n",
    "    annual_merged['ytd_target'] = ((abs(annual_merged['total_target']))/251)*annual_current_billing_days\n",
    "    annual_merged['percent_to_ytd_target'] = annual_merged['current_sales']/annual_merged['ytd_target']\n",
    "    annual_merged['percent_growth_py'] = (annual_merged['current_sales']-annual_merged['sales_2021'])/annual_merged['sales_2021']\n",
    "    annual_merged['percent_to_year_target'] = annual_merged['current_sales']/annual_merged['total_target']\n",
    "\n",
    "    # Annual split into Legacy and NTX teams\n",
    "    large_annual_merged = annual_merged[annual_merged['group']=='large']\n",
    "    small_annual_merged = annual_merged[annual_merged['group']=='small']\n",
    "    large_annual_merged.drop(['group', 'q1_sales', 'q1_2021_sales'], axis=1, inplace=True)\n",
    "    small_annual_merged.drop(['group', 'q1_sales', 'q1_2021_sales'], axis=1, inplace=True)\n",
    "    \n",
    "    annual_merged.drop(['q1_sales', 'q1_2021_sales'], axis=1, inplace=True)\n",
    "    annual_merged.to_csv('OUTPUT_full_annual.csv', index=False)\n",
    "    \n",
    "    # Download both new dataframes\n",
    "    large_qtr_merged.to_csv('OUTPUT_large_quarter_sales_target_'+date+'.csv', index=False)\n",
    "    small_qtr_merged.to_csv('OUTPUT_small_quarter_sales_target_'+date+'.csv', index=False)\n",
    "    \n",
    "    large_annual_merged.to_csv('OUTPUT_large_annual_sales_target_'+date+'.csv', index=False)\n",
    "    small_annual_merged.to_csv('OUTPUT_small_annual_sales_target_'+date+'.csv', index=False)\n",
    "    \n",
    "    return 'Successful'"
   ]
  },
  {
   "cell_type": "code",
   "execution_count": 3,
   "id": "db89110a",
   "metadata": {
    "scrolled": true
   },
   "outputs": [
    {
     "name": "stderr",
     "output_type": "stream",
     "text": [
      "C:\\Users\\dmusgrove\\Anaconda3\\lib\\site-packages\\pandas\\core\\frame.py:4906: SettingWithCopyWarning: \n",
      "A value is trying to be set on a copy of a slice from a DataFrame\n",
      "\n",
      "See the caveats in the documentation: https://pandas.pydata.org/pandas-docs/stable/user_guide/indexing.html#returning-a-view-versus-a-copy\n",
      "  return super().drop(\n"
     ]
    },
    {
     "data": {
      "text/plain": [
       "'Successful'"
      ]
     },
     "execution_count": 3,
     "metadata": {},
     "output_type": "execute_result"
    }
   ],
   "source": [
    "target_tracker('_06242022', '2', 58, 121)"
   ]
  },
  {
   "cell_type": "markdown",
   "id": "313d57ff",
   "metadata": {},
   "source": [
    "**Development Notes**\n",
    "\n",
    "\n",
    "* str.replace updating soon; must include regex=True [documentation](https://pandas.pydata.org/docs/reference/api/pandas.Series.str.replace.html#pandas.Series.str.replace)"
   ]
  }
 ],
 "metadata": {
  "kernelspec": {
   "display_name": "Python 3 (ipykernel)",
   "language": "python",
   "name": "python3"
  },
  "language_info": {
   "codemirror_mode": {
    "name": "ipython",
    "version": 3
   },
   "file_extension": ".py",
   "mimetype": "text/x-python",
   "name": "python",
   "nbconvert_exporter": "python",
   "pygments_lexer": "ipython3",
   "version": "3.9.7"
  }
 },
 "nbformat": 4,
 "nbformat_minor": 5
}
